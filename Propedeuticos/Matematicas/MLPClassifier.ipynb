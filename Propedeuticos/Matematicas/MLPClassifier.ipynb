{
  "nbformat": 4,
  "nbformat_minor": 0,
  "metadata": {
    "colab": {
      "provenance": [],
      "gpuType": "T4"
    },
    "kernelspec": {
      "name": "python3",
      "display_name": "Python 3"
    },
    "language_info": {
      "name": "python"
    },
    "accelerator": "GPU"
  },
  "cells": [
    {
      "cell_type": "markdown",
      "source": [
        "# Predictor de Diabetes\n",
        "\n",
        "El objetivo de este trabajo es crear un modelo de redes nueronales para predecir, en base a una serie de datos genéricos, si un paciente presenta diabetes o no."
      ],
      "metadata": {
        "id": "ViJl2YJ2-3Kx"
      }
    },
    {
      "cell_type": "code",
      "execution_count": 2,
      "metadata": {
        "id": "QSZJ_fAQ9mxj"
      },
      "outputs": [],
      "source": [
        "import numpy as np\n",
        "import pandas as pd\n",
        "import matplotlib.pyplot as plt\n",
        "from sklearn.neural_network import MLPClassifier\n",
        "from sklearn.model_selection import train_test_split\n",
        "from sklearn.metrics import accuracy_score, jaccard_score, confusion_matrix, ConfusionMatrixDisplay, classification_report\n",
        "from imblearn.over_sampling import RandomOverSampler"
      ]
    },
    {
      "cell_type": "markdown",
      "source": [
        "## Sobre el dataset\n",
        "\n",
        "El dataset utilizado fue descargado del repositorio de datasets de Kaggle, el cual se encuentra de manera libre para su descarga.\n",
        "\n",
        "https://www.kaggle.com/datasets/iammustafatz/diabetes-prediction-dataset\n",
        "\n",
        "El dataset original consta de 100,000 registros. \n",
        "Algunos de ellos venían sin información en la variable categórica \"smoking_history\", en uno de modelos fueron descartados quedando alrededor de 60,000 datos y en el otro fueron transformados.\n",
        "\n",
        "La variable \"diabetes\" es una columna de valores binarios que indican si la persona tiene diabetes o no. Esta variable se tomó como nuestra variable dependiente de este modelo."
      ],
      "metadata": {
        "id": "EevgsFLY_gPt"
      }
    },
    {
      "cell_type": "code",
      "source": [
        "df = pd.read_csv(\"diabetes_prediction_dataset.csv\")"
      ],
      "metadata": {
        "id": "9izxO9xU-iwd"
      },
      "execution_count": 4,
      "outputs": []
    },
    {
      "cell_type": "code",
      "source": [
        "df_bar = df.groupby(\"smoking_history\").smoking_history.count()\n",
        "df_bar.plot(kind = \"bar\")"
      ],
      "metadata": {
        "colab": {
          "base_uri": "https://localhost:8080/",
          "height": 531
        },
        "id": "CWVnD71yA1Ms",
        "outputId": "a61f1a3d-0ece-44b2-d270-f5fdf573140e"
      },
      "execution_count": 5,
      "outputs": [
        {
          "output_type": "execute_result",
          "data": {
            "text/plain": [
              "<Axes: xlabel='smoking_history'>"
            ]
          },
          "metadata": {},
          "execution_count": 5
        },
        {
          "output_type": "display_data",
          "data": {
            "text/plain": [
              "<Figure size 640x480 with 1 Axes>"
            ],
            "image/png": "[encoded data removed]"
          },
          "metadata": {}
        }
      ]
    },
    {
      "cell_type": "markdown",
      "source": [
        "- df_nosmk: No incluye los renglones sin información en la columna de smoking_history:\n",
        "- df_smk: Sí los incluye, sustituyendolos por \"never\", contiene 64,184 renglones."
      ],
      "metadata": {
        "id": "AoGBX_6yG9eR"
      }
    },
    {
      "cell_type": "code",
      "source": [
        "df_smk = df.replace(\"No Info\", \"never\")\n",
        "df_nosmk = df[df[\"smoking_history\"] != \"No Info\"].reset_index(drop = True)"
      ],
      "metadata": {
        "id": "bLhnu4ErD3oQ"
      },
      "execution_count": 16,
      "outputs": []
    },
    {
      "cell_type": "markdown",
      "source": [
        "Usando dummy variables para codificar género e historial fumador."
      ],
      "metadata": {
        "id": "aypCjpxSMkJH"
      }
    },
    {
      "cell_type": "code",
      "source": [
        "df_smk_dummy_gen = pd.get_dummies(df_smk[\"gender\"])\n",
        "df_smk_dummy_smk = pd.get_dummies(df_smk[\"smoking_history\"])\n",
        "df_smk = pd.concat([df_smk, df_smk_dummy_gen, df_smk_dummy_smk], axis = \"columns\")\n",
        "df_smk = df_smk.drop([\"gender\", \"smoking_history\"], axis = 1)\n",
        "df_smk"
      ],
      "metadata": {
        "colab": {
          "base_uri": "https://localhost:8080/",
          "height": 505
        },
        "id": "YtwbF3jHMicn",
        "outputId": "1a9067ab-1a81-4e8b-fc96-d1fcb0630166"
      },
      "execution_count": 17,
      "outputs": [
        {
          "output_type": "execute_result",
          "data": {
            "text/plain": [
              "        age  hypertension  heart_disease    bmi  HbA1c_level  \\\n",
              "0      80.0             0              1  25.19          6.6   \n",
              "1      54.0             0              0  27.32          6.6   \n",
              "2      28.0             0              0  27.32          5.7   \n",
              "3      36.0             0              0  23.45          5.0   \n",
              "4      76.0             1              1  20.14          4.8   \n",
              "...     ...           ...            ...    ...          ...   \n",
              "99995  80.0             0              0  27.32          6.2   \n",
              "99996   2.0             0              0  17.37          6.5   \n",
              "99997  66.0             0              0  27.83          5.7   \n",
              "99998  24.0             0              0  35.42          4.0   \n",
              "99999  57.0             0              0  22.43          6.6   \n",
              "\n",
              "       blood_glucose_level  diabetes  Female  Male  Other  current  ever  \\\n",
              "0                      140         0       1     0      0        0     0   \n",
              "1                       80         0       1     0      0        0     0   \n",
              "2                      158         0       0     1      0        0     0   \n",
              "3                      155         0       1     0      0        1     0   \n",
              "4                      155         0       0     1      0        1     0   \n",
              "...                    ...       ...     ...   ...    ...      ...   ...   \n",
              "99995                   90         0       1     0      0        0     0   \n",
              "99996                  100         0       1     0      0        0     0   \n",
              "99997                  155         0       0     1      0        0     0   \n",
              "99998                  100         0       1     0      0        0     0   \n",
              "99999                   90         0       1     0      0        1     0   \n",
              "\n",
              "       former  never  not current  \n",
              "0           0      1            0  \n",
              "1           0      1            0  \n",
              "2           0      1            0  \n",
              "3           0      0            0  \n",
              "4           0      0            0  \n",
              "...       ...    ...          ...  \n",
              "99995       0      1            0  \n",
              "99996       0      1            0  \n",
              "99997       1      0            0  \n",
              "99998       0      1            0  \n",
              "99999       0      0            0  \n",
              "\n",
              "[100000 rows x 15 columns]"
            ],
            "text/html": [
              "\n",
              "  <div id=\"df-ab0060fd-811b-4182-8c1f-ea5598518344\">\n",
              "    <div class=\"colab-df-container\">\n",
              "      <div>\n",
              "<style scoped>\n",
              "    .dataframe tbody tr th:only-of-type {\n",
              "        vertical-align: middle;\n",
              "    }\n",
              "\n",
              "    .dataframe tbody tr th {\n",
              "        vertical-align: top;\n",
              "    }\n",
              "\n",
              "    .dataframe thead th {\n",
              "        text-align: right;\n",
              "    }\n",
              "</style>\n",
              "<table border=\"1\" class=\"dataframe\">\n",
              "  <thead>\n",
              "    <tr style=\"text-align: right;\">\n",
              "      <th></th>\n",
              "      <th>age</th>\n",
              "      <th>hypertension</th>\n",
              "      <th>heart_disease</th>\n",
              "      <th>bmi</th>\n",
              "      <th>HbA1c_level</th>\n",
              "      <th>blood_glucose_level</th>\n",
              "      <th>diabetes</th>\n",
              "      <th>Female</th>\n",
              "      <th>Male</th>\n",
              "      <th>Other</th>\n",
              "      <th>current</th>\n",
              "      <th>ever</th>\n",
              "      <th>former</th>\n",
              "      <th>never</th>\n",
              "      <th>not current</th>\n",
              "    </tr>\n",
              "  </thead>\n",
              "  <tbody>\n",
              "    <tr>\n",
              "      <th>0</th>\n",
              "      <td>80.0</td>\n",
              "      <td>0</td>\n",
              "      <td>1</td>\n",
              "      <td>25.19</td>\n",
              "      <td>6.6</td>\n",
              "      <td>140</td>\n",
              "      <td>0</td>\n",
              "      <td>1</td>\n",
              "      <td>0</td>\n",
              "      <td>0</td>\n",
              "      <td>0</td>\n",
              "      <td>0</td>\n",
              "      <td>0</td>\n",
              "      <td>1</td>\n",
              "      <td>0</td>\n",
              "    </tr>\n",
              "    <tr>\n",
              "      <th>1</th>\n",
              "      <td>54.0</td>\n",
              "      <td>0</td>\n",
              "      <td>0</td>\n",
              "      <td>27.32</td>\n",
              "      <td>6.6</td>\n",
              "      <td>80</td>\n",
              "      <td>0</td>\n",
              "      <td>1</td>\n",
              "      <td>0</td>\n",
              "      <td>0</td>\n",
              "      <td>0</td>\n",
              "      <td>0</td>\n",
              "      <td>0</td>\n",
              "      <td>1</td>\n",
              "      <td>0</td>\n",
              "    </tr>\n",
              "    <tr>\n",
              "      <th>2</th>\n",
              "      <td>28.0</td>\n",
              "      <td>0</td>\n",
              "      <td>0</td>\n",
              "      <td>27.32</td>\n",
              "      <td>5.7</td>\n",
              "      <td>158</td>\n",
              "      <td>0</td>\n",
              "      <td>0</td>\n",
              "      <td>1</td>\n",
              "      <td>0</td>\n",
              "      <td>0</td>\n",
              "      <td>0</td>\n",
              "      <td>0</td>\n",
              "      <td>1</td>\n",
              "      <td>0</td>\n",
              "    </tr>\n",
              "    <tr>\n",
              "      <th>3</th>\n",
              "      <td>36.0</td>\n",
              "      <td>0</td>\n",
              "      <td>0</td>\n",
              "      <td>23.45</td>\n",
              "      <td>5.0</td>\n",
              "      <td>155</td>\n",
              "      <td>0</td>\n",
              "      <td>1</td>\n",
              "      <td>0</td>\n",
              "      <td>0</td>\n",
              "      <td>1</td>\n",
              "      <td>0</td>\n",
              "      <td>0</td>\n",
              "      <td>0</td>\n",
              "      <td>0</td>\n",
              "    </tr>\n",
              "    <tr>\n",
              "      <th>4</th>\n",
              "      <td>76.0</td>\n",
              "      <td>1</td>\n",
              "      <td>1</td>\n",
              "      <td>20.14</td>\n",
              "      <td>4.8</td>\n",
              "      <td>155</td>\n",
              "      <td>0</td>\n",
              "      <td>0</td>\n",
              "      <td>1</td>\n",
              "      <td>0</td>\n",
              "      <td>1</td>\n",
              "      <td>0</td>\n",
              "      <td>0</td>\n",
              "      <td>0</td>\n",
              "      <td>0</td>\n",
              "    </tr>\n",
              "    <tr>\n",
              "      <th>...</th>\n",
              "      <td>...</td>\n",
              "      <td>...</td>\n",
              "      <td>...</td>\n",
              "      <td>...</td>\n",
              "      <td>...</td>\n",
              "      <td>...</td>\n",
              "      <td>...</td>\n",
              "      <td>...</td>\n",
              "      <td>...</td>\n",
              "      <td>...</td>\n",
              "      <td>...</td>\n",
              "      <td>...</td>\n",
              "      <td>...</td>\n",
              "      <td>...</td>\n",
              "      <td>...</td>\n",
              "    </tr>\n",
              "    <tr>\n",
              "      <th>99995</th>\n",
              "      <td>80.0</td>\n",
              "      <td>0</td>\n",
              "      <td>0</td>\n",
              "      <td>27.32</td>\n",
              "      <td>6.2</td>\n",
              "      <td>90</td>\n",
              "      <td>0</td>\n",
              "      <td>1</td>\n",
              "      <td>0</td>\n",
              "      <td>0</td>\n",
              "      <td>0</td>\n",
              "      <td>0</td>\n",
              "      <td>0</td>\n",
              "      <td>1</td>\n",
              "      <td>0</td>\n",
              "    </tr>\n",
              "    <tr>\n",
              "      <th>99996</th>\n",
              "      <td>2.0</td>\n",
              "      <td>0</td>\n",
              "      <td>0</td>\n",
              "      <td>17.37</td>\n",
              "      <td>6.5</td>\n",
              "      <td>100</td>\n",
              "      <td>0</td>\n",
              "      <td>1</td>\n",
              "      <td>0</td>\n",
              "      <td>0</td>\n",
              "      <td>0</td>\n",
              "      <td>0</td>\n",
              "      <td>0</td>\n",
              "      <td>1</td>\n",
              "      <td>0</td>\n",
              "    </tr>\n",
              "    <tr>\n",
              "      <th>99997</th>\n",
              "      <td>66.0</td>\n",
              "      <td>0</td>\n",
              "      <td>0</td>\n",
              "      <td>27.83</td>\n",
              "      <td>5.7</td>\n",
              "      <td>155</td>\n",
              "      <td>0</td>\n",
              "      <td>0</td>\n",
              "      <td>1</td>\n",
              "      <td>0</td>\n",
              "      <td>0</td>\n",
              "      <td>0</td>\n",
              "      <td>1</td>\n",
              "      <td>0</td>\n",
              "      <td>0</td>\n",
              "    </tr>\n",
              "    <tr>\n",
              "      <th>99998</th>\n",
              "      <td>24.0</td>\n",
              "      <td>0</td>\n",
              "      <td>0</td>\n",
              "      <td>35.42</td>\n",
              "      <td>4.0</td>\n",
              "      <td>100</td>\n",
              "      <td>0</td>\n",
              "      <td>1</td>\n",
              "      <td>0</td>\n",
              "      <td>0</td>\n",
              "      <td>0</td>\n",
              "      <td>0</td>\n",
              "      <td>0</td>\n",
              "      <td>1</td>\n",
              "      <td>0</td>\n",
              "    </tr>\n",
              "    <tr>\n",
              "      <th>99999</th>\n",
              "      <td>57.0</td>\n",
              "      <td>0</td>\n",
              "      <td>0</td>\n",
              "      <td>22.43</td>\n",
              "      <td>6.6</td>\n",
              "      <td>90</td>\n",
              "      <td>0</td>\n",
              "      <td>1</td>\n",
              "      <td>0</td>\n",
              "      <td>0</td>\n",
              "      <td>1</td>\n",
              "      <td>0</td>\n",
              "      <td>0</td>\n",
              "      <td>0</td>\n",
              "      <td>0</td>\n",
              "    </tr>\n",
              "  </tbody>\n",
              "</table>\n",
              "<p>100000 rows × 15 columns</p>\n",
              "</div>\n",
              "      <button class=\"colab-df-convert\" onclick=\"convertToInteractive('df-ab0060fd-811b-4182-8c1f-ea5598518344')\"\n",
              "              title=\"Convert this dataframe to an interactive table.\"\n",
              "              style=\"display:none;\">\n",
              "        \n",
              "  <svg xmlns=\"http://www.w3.org/2000/svg\" height=\"24px\"viewBox=\"0 0 24 24\"\n",
              "       width=\"24px\">\n",
              "    <path d=\"M0 0h24v24H0V0z\" fill=\"none\"/>\n",
              "    <path d=\"M18.56 5.44l.94 2.06.94-2.06 2.06-.94-2.06-.94-.94-2.06-.94 2.06-2.06.94zm-11 1L8.5 8.5l.94-2.06 2.06-.94-2.06-.94L8.5 2.5l-.94 2.06-2.06.94zm10 10l.94 2.06.94-2.06 2.06-.94-2.06-.94-.94-2.06-.94 2.06-2.06.94z\"/><path d=\"M17.41 7.96l-1.37-1.37c-.4-.4-.92-.59-1.43-.59-.52 0-1.04.2-1.43.59L10.3 9.45l-7.72 7.72c-.78.78-.78 2.05 0 2.83L4 21.41c.39.39.9.59 1.41.59.51 0 1.02-.2 1.41-.59l7.78-7.78 2.81-2.81c.8-.78.8-2.07 0-2.86zM5.41 20L4 18.59l7.72-7.72 1.47 1.35L5.41 20z\"/>\n",
              "  </svg>\n",
              "      </button>\n",
              "      \n",
              "  <style>\n",
              "    .colab-df-container {\n",
              "      display:flex;\n",
              "      flex-wrap:wrap;\n",
              "      gap: 12px;\n",
              "    }\n",
              "\n",
              "    .colab-df-convert {\n",
              "      background-color: #E8F0FE;\n",
              "      border: none;\n",
              "      border-radius: 50%;\n",
              "      cursor: pointer;\n",
              "      display: none;\n",
              "      fill: #1967D2;\n",
              "      height: 32px;\n",
              "      padding: 0 0 0 0;\n",
              "      width: 32px;\n",
              "    }\n",
              "\n",
              "    .colab-df-convert:hover {\n",
              "      background-color: #E2EBFA;\n",
              "      box-shadow: 0px 1px 2px rgba(60, 64, 67, 0.3), 0px 1px 3px 1px rgba(60, 64, 67, 0.15);\n",
              "      fill: #174EA6;\n",
              "    }\n",
              "\n",
              "    [theme=dark] .colab-df-convert {\n",
              "      background-color: #3B4455;\n",
              "      fill: #D2E3FC;\n",
              "    }\n",
              "\n",
              "    [theme=dark] .colab-df-convert:hover {\n",
              "      background-color: #434B5C;\n",
              "      box-shadow: 0px 1px 3px 1px rgba(0, 0, 0, 0.15);\n",
              "      filter: drop-shadow(0px 1px 2px rgba(0, 0, 0, 0.3));\n",
              "      fill: #FFFFFF;\n",
              "    }\n",
              "  </style>\n",
              "\n",
              "      <script>\n",
              "        const buttonEl =\n",
              "          document.querySelector('#df-ab0060fd-811b-4182-8c1f-ea5598518344 button.colab-df-convert');\n",
              "        buttonEl.style.display =\n",
              "          google.colab.kernel.accessAllowed ? 'block' : 'none';\n",
              "\n",
              "        async function convertToInteractive(key) {\n",
              "          const element = document.querySelector('#df-ab0060fd-811b-4182-8c1f-ea5598518344');\n",
              "          const dataTable =\n",
              "            await google.colab.kernel.invokeFunction('convertToInteractive',\n",
              "                                                     [key], {});\n",
              "          if (!dataTable) return;\n",
              "\n",
              "          const docLinkHtml = 'Like what you see? Visit the ' +\n",
              "            '<a target=\"_blank\" href=https://colab.research.google.com/notebooks/data_table.ipynb>data table notebook</a>'\n",
              "            + ' to learn more about interactive tables.';\n",
              "          element.innerHTML = '';\n",
              "          dataTable['output_type'] = 'display_data';\n",
              "          await google.colab.output.renderOutput(dataTable, element);\n",
              "          const docLink = document.createElement('div');\n",
              "          docLink.innerHTML = docLinkHtml;\n",
              "          element.appendChild(docLink);\n",
              "        }\n",
              "      </script>\n",
              "    </div>\n",
              "  </div>\n",
              "  "
            ]
          },
          "metadata": {},
          "execution_count": 17
        }
      ]
    },
    {
      "cell_type": "code",
      "source": [
        "df_nosmk_dummy_gen = pd.get_dummies(df_nosmk[\"gender\"])\n",
        "df_nosmk_dummy_smk = pd.get_dummies(df_nosmk[\"smoking_history\"])\n",
        "df_nosmk = pd.concat([df_nosmk, df_nosmk_dummy_gen, df_nosmk_dummy_smk], axis = \"columns\")\n",
        "df_nosmk = df_nosmk.drop([\"gender\", \"smoking_history\"], axis = 1)\n",
        "df_nosmk"
      ],
      "metadata": {
        "colab": {
          "base_uri": "https://localhost:8080/",
          "height": 505
        },
        "outputId": "8df047dd-59e7-47d9-f272-c160984d8a46",
        "id": "nxWH5KeXN9Sw"
      },
      "execution_count": 18,
      "outputs": [
        {
          "output_type": "execute_result",
          "data": {
            "text/plain": [
              "        age  hypertension  heart_disease    bmi  HbA1c_level  \\\n",
              "0      80.0             0              1  25.19          6.6   \n",
              "1      28.0             0              0  27.32          5.7   \n",
              "2      36.0             0              0  23.45          5.0   \n",
              "3      76.0             1              1  20.14          4.8   \n",
              "4      20.0             0              0  27.32          6.6   \n",
              "...     ...           ...            ...    ...          ...   \n",
              "64179  26.0             0              0  34.34          6.5   \n",
              "64180  40.0             0              0  40.69          3.5   \n",
              "64181  66.0             0              0  27.83          5.7   \n",
              "64182  24.0             0              0  35.42          4.0   \n",
              "64183  57.0             0              0  22.43          6.6   \n",
              "\n",
              "       blood_glucose_level  diabetes  Female  Male  Other  current  ever  \\\n",
              "0                      140         0       1     0      0        0     0   \n",
              "1                      158         0       0     1      0        0     0   \n",
              "2                      155         0       1     0      0        1     0   \n",
              "3                      155         0       0     1      0        1     0   \n",
              "4                       85         0       1     0      0        0     0   \n",
              "...                    ...       ...     ...   ...    ...      ...   ...   \n",
              "64179                  160         0       1     0      0        0     0   \n",
              "64180                  155         0       1     0      0        0     0   \n",
              "64181                  155         0       0     1      0        0     0   \n",
              "64182                  100         0       1     0      0        0     0   \n",
              "64183                   90         0       1     0      0        1     0   \n",
              "\n",
              "       former  never  not current  \n",
              "0           0      1            0  \n",
              "1           0      1            0  \n",
              "2           0      0            0  \n",
              "3           0      0            0  \n",
              "4           0      1            0  \n",
              "...       ...    ...          ...  \n",
              "64179       0      1            0  \n",
              "64180       0      1            0  \n",
              "64181       1      0            0  \n",
              "64182       0      1            0  \n",
              "64183       0      0            0  \n",
              "\n",
              "[64184 rows x 15 columns]"
            ],
            "text/html": [
              "\n",
              "  <div id=\"df-c1874bb7-53f0-4314-921e-8bdedc9a9673\">\n",
              "    <div class=\"colab-df-container\">\n",
              "      <div>\n",
              "<style scoped>\n",
              "    .dataframe tbody tr th:only-of-type {\n",
              "        vertical-align: middle;\n",
              "    }\n",
              "\n",
              "    .dataframe tbody tr th {\n",
              "        vertical-align: top;\n",
              "    }\n",
              "\n",
              "    .dataframe thead th {\n",
              "        text-align: right;\n",
              "    }\n",
              "</style>\n",
              "<table border=\"1\" class=\"dataframe\">\n",
              "  <thead>\n",
              "    <tr style=\"text-align: right;\">\n",
              "      <th></th>\n",
              "      <th>age</th>\n",
              "      <th>hypertension</th>\n",
              "      <th>heart_disease</th>\n",
              "      <th>bmi</th>\n",
              "      <th>HbA1c_level</th>\n",
              "      <th>blood_glucose_level</th>\n",
              "      <th>diabetes</th>\n",
              "      <th>Female</th>\n",
              "      <th>Male</th>\n",
              "      <th>Other</th>\n",
              "      <th>current</th>\n",
              "      <th>ever</th>\n",
              "      <th>former</th>\n",
              "      <th>never</th>\n",
              "      <th>not current</th>\n",
              "    </tr>\n",
              "  </thead>\n",
              "  <tbody>\n",
              "    <tr>\n",
              "      <th>0</th>\n",
              "      <td>80.0</td>\n",
              "      <td>0</td>\n",
              "      <td>1</td>\n",
              "      <td>25.19</td>\n",
              "      <td>6.6</td>\n",
              "      <td>140</td>\n",
              "      <td>0</td>\n",
              "      <td>1</td>\n",
              "      <td>0</td>\n",
              "      <td>0</td>\n",
              "      <td>0</td>\n",
              "      <td>0</td>\n",
              "      <td>0</td>\n",
              "      <td>1</td>\n",
              "      <td>0</td>\n",
              "    </tr>\n",
              "    <tr>\n",
              "      <th>1</th>\n",
              "      <td>28.0</td>\n",
              "      <td>0</td>\n",
              "      <td>0</td>\n",
              "      <td>27.32</td>\n",
              "      <td>5.7</td>\n",
              "      <td>158</td>\n",
              "      <td>0</td>\n",
              "      <td>0</td>\n",
              "      <td>1</td>\n",
              "      <td>0</td>\n",
              "      <td>0</td>\n",
              "      <td>0</td>\n",
              "      <td>0</td>\n",
              "      <td>1</td>\n",
              "      <td>0</td>\n",
              "    </tr>\n",
              "    <tr>\n",
              "      <th>2</th>\n",
              "      <td>36.0</td>\n",
              "      <td>0</td>\n",
              "      <td>0</td>\n",
              "      <td>23.45</td>\n",
              "      <td>5.0</td>\n",
              "      <td>155</td>\n",
              "      <td>0</td>\n",
              "      <td>1</td>\n",
              "      <td>0</td>\n",
              "      <td>0</td>\n",
              "      <td>1</td>\n",
              "      <td>0</td>\n",
              "      <td>0</td>\n",
              "      <td>0</td>\n",
              "      <td>0</td>\n",
              "    </tr>\n",
              "    <tr>\n",
              "      <th>3</th>\n",
              "      <td>76.0</td>\n",
              "      <td>1</td>\n",
              "      <td>1</td>\n",
              "      <td>20.14</td>\n",
              "      <td>4.8</td>\n",
              "      <td>155</td>\n",
              "      <td>0</td>\n",
              "      <td>0</td>\n",
              "      <td>1</td>\n",
              "      <td>0</td>\n",
              "      <td>1</td>\n",
              "      <td>0</td>\n",
              "      <td>0</td>\n",
              "      <td>0</td>\n",
              "      <td>0</td>\n",
              "    </tr>\n",
              "    <tr>\n",
              "      <th>4</th>\n",
              "      <td>20.0</td>\n",
              "      <td>0</td>\n",
              "      <td>0</td>\n",
              "      <td>27.32</td>\n",
              "      <td>6.6</td>\n",
              "      <td>85</td>\n",
              "      <td>0</td>\n",
              "      <td>1</td>\n",
              "      <td>0</td>\n",
              "      <td>0</td>\n",
              "      <td>0</td>\n",
              "      <td>0</td>\n",
              "      <td>0</td>\n",
              "      <td>1</td>\n",
              "      <td>0</td>\n",
              "    </tr>\n",
              "    <tr>\n",
              "      <th>...</th>\n",
              "      <td>...</td>\n",
              "      <td>...</td>\n",
              "      <td>...</td>\n",
              "      <td>...</td>\n",
              "      <td>...</td>\n",
              "      <td>...</td>\n",
              "      <td>...</td>\n",
              "      <td>...</td>\n",
              "      <td>...</td>\n",
              "      <td>...</td>\n",
              "      <td>...</td>\n",
              "      <td>...</td>\n",
              "      <td>...</td>\n",
              "      <td>...</td>\n",
              "      <td>...</td>\n",
              "    </tr>\n",
              "    <tr>\n",
              "      <th>64179</th>\n",
              "      <td>26.0</td>\n",
              "      <td>0</td>\n",
              "      <td>0</td>\n",
              "      <td>34.34</td>\n",
              "      <td>6.5</td>\n",
              "      <td>160</td>\n",
              "      <td>0</td>\n",
              "      <td>1</td>\n",
              "      <td>0</td>\n",
              "      <td>0</td>\n",
              "      <td>0</td>\n",
              "      <td>0</td>\n",
              "      <td>0</td>\n",
              "      <td>1</td>\n",
              "      <td>0</td>\n",
              "    </tr>\n",
              "    <tr>\n",
              "      <th>64180</th>\n",
              "      <td>40.0</td>\n",
              "      <td>0</td>\n",
              "      <td>0</td>\n",
              "      <td>40.69</td>\n",
              "      <td>3.5</td>\n",
              "      <td>155</td>\n",
              "      <td>0</td>\n",
              "      <td>1</td>\n",
              "      <td>0</td>\n",
              "      <td>0</td>\n",
              "      <td>0</td>\n",
              "      <td>0</td>\n",
              "      <td>0</td>\n",
              "      <td>1</td>\n",
              "      <td>0</td>\n",
              "    </tr>\n",
              "    <tr>\n",
              "      <th>64181</th>\n",
              "      <td>66.0</td>\n",
              "      <td>0</td>\n",
              "      <td>0</td>\n",
              "      <td>27.83</td>\n",
              "      <td>5.7</td>\n",
              "      <td>155</td>\n",
              "      <td>0</td>\n",
              "      <td>0</td>\n",
              "      <td>1</td>\n",
              "      <td>0</td>\n",
              "      <td>0</td>\n",
              "      <td>0</td>\n",
              "      <td>1</td>\n",
              "      <td>0</td>\n",
              "      <td>0</td>\n",
              "    </tr>\n",
              "    <tr>\n",
              "      <th>64182</th>\n",
              "      <td>24.0</td>\n",
              "      <td>0</td>\n",
              "      <td>0</td>\n",
              "      <td>35.42</td>\n",
              "      <td>4.0</td>\n",
              "      <td>100</td>\n",
              "      <td>0</td>\n",
              "      <td>1</td>\n",
              "      <td>0</td>\n",
              "      <td>0</td>\n",
              "      <td>0</td>\n",
              "      <td>0</td>\n",
              "      <td>0</td>\n",
              "      <td>1</td>\n",
              "      <td>0</td>\n",
              "    </tr>\n",
              "    <tr>\n",
              "      <th>64183</th>\n",
              "      <td>57.0</td>\n",
              "      <td>0</td>\n",
              "      <td>0</td>\n",
              "      <td>22.43</td>\n",
              "      <td>6.6</td>\n",
              "      <td>90</td>\n",
              "      <td>0</td>\n",
              "      <td>1</td>\n",
              "      <td>0</td>\n",
              "      <td>0</td>\n",
              "      <td>1</td>\n",
              "      <td>0</td>\n",
              "      <td>0</td>\n",
              "      <td>0</td>\n",
              "      <td>0</td>\n",
              "    </tr>\n",
              "  </tbody>\n",
              "</table>\n",
              "<p>64184 rows × 15 columns</p>\n",
              "</div>\n",
              "      <button class=\"colab-df-convert\" onclick=\"convertToInteractive('df-c1874bb7-53f0-4314-921e-8bdedc9a9673')\"\n",
              "              title=\"Convert this dataframe to an interactive table.\"\n",
              "              style=\"display:none;\">\n",
              "        \n",
              "  <svg xmlns=\"http://www.w3.org/2000/svg\" height=\"24px\"viewBox=\"0 0 24 24\"\n",
              "       width=\"24px\">\n",
              "    <path d=\"M0 0h24v24H0V0z\" fill=\"none\"/>\n",
              "    <path d=\"M18.56 5.44l.94 2.06.94-2.06 2.06-.94-2.06-.94-.94-2.06-.94 2.06-2.06.94zm-11 1L8.5 8.5l.94-2.06 2.06-.94-2.06-.94L8.5 2.5l-.94 2.06-2.06.94zm10 10l.94 2.06.94-2.06 2.06-.94-2.06-.94-.94-2.06-.94 2.06-2.06.94z\"/><path d=\"M17.41 7.96l-1.37-1.37c-.4-.4-.92-.59-1.43-.59-.52 0-1.04.2-1.43.59L10.3 9.45l-7.72 7.72c-.78.78-.78 2.05 0 2.83L4 21.41c.39.39.9.59 1.41.59.51 0 1.02-.2 1.41-.59l7.78-7.78 2.81-2.81c.8-.78.8-2.07 0-2.86zM5.41 20L4 18.59l7.72-7.72 1.47 1.35L5.41 20z\"/>\n",
              "  </svg>\n",
              "      </button>\n",
              "      \n",
              "  <style>\n",
              "    .colab-df-container {\n",
              "      display:flex;\n",
              "      flex-wrap:wrap;\n",
              "      gap: 12px;\n",
              "    }\n",
              "\n",
              "    .colab-df-convert {\n",
              "      background-color: #E8F0FE;\n",
              "      border: none;\n",
              "      border-radius: 50%;\n",
              "      cursor: pointer;\n",
              "      display: none;\n",
              "      fill: #1967D2;\n",
              "      height: 32px;\n",
              "      padding: 0 0 0 0;\n",
              "      width: 32px;\n",
              "    }\n",
              "\n",
              "    .colab-df-convert:hover {\n",
              "      background-color: #E2EBFA;\n",
              "      box-shadow: 0px 1px 2px rgba(60, 64, 67, 0.3), 0px 1px 3px 1px rgba(60, 64, 67, 0.15);\n",
              "      fill: #174EA6;\n",
              "    }\n",
              "\n",
              "    [theme=dark] .colab-df-convert {\n",
              "      background-color: #3B4455;\n",
              "      fill: #D2E3FC;\n",
              "    }\n",
              "\n",
              "    [theme=dark] .colab-df-convert:hover {\n",
              "      background-color: #434B5C;\n",
              "      box-shadow: 0px 1px 3px 1px rgba(0, 0, 0, 0.15);\n",
              "      filter: drop-shadow(0px 1px 2px rgba(0, 0, 0, 0.3));\n",
              "      fill: #FFFFFF;\n",
              "    }\n",
              "  </style>\n",
              "\n",
              "      <script>\n",
              "        const buttonEl =\n",
              "          document.querySelector('#df-c1874bb7-53f0-4314-921e-8bdedc9a9673 button.colab-df-convert');\n",
              "        buttonEl.style.display =\n",
              "          google.colab.kernel.accessAllowed ? 'block' : 'none';\n",
              "\n",
              "        async function convertToInteractive(key) {\n",
              "          const element = document.querySelector('#df-c1874bb7-53f0-4314-921e-8bdedc9a9673');\n",
              "          const dataTable =\n",
              "            await google.colab.kernel.invokeFunction('convertToInteractive',\n",
              "                                                     [key], {});\n",
              "          if (!dataTable) return;\n",
              "\n",
              "          const docLinkHtml = 'Like what you see? Visit the ' +\n",
              "            '<a target=\"_blank\" href=https://colab.research.google.com/notebooks/data_table.ipynb>data table notebook</a>'\n",
              "            + ' to learn more about interactive tables.';\n",
              "          element.innerHTML = '';\n",
              "          dataTable['output_type'] = 'display_data';\n",
              "          await google.colab.output.renderOutput(dataTable, element);\n",
              "          const docLink = document.createElement('div');\n",
              "          docLink.innerHTML = docLinkHtml;\n",
              "          element.appendChild(docLink);\n",
              "        }\n",
              "      </script>\n",
              "    </div>\n",
              "  </div>\n",
              "  "
            ]
          },
          "metadata": {},
          "execution_count": 18
        }
      ]
    },
    {
      "cell_type": "markdown",
      "source": [
        "## Preprocesamiento"
      ],
      "metadata": {
        "id": "KdsjReLASZAq"
      }
    },
    {
      "cell_type": "markdown",
      "source": [
        "Los datos "
      ],
      "metadata": {
        "id": "fmLmOuG6BqQ_"
      }
    },
    {
      "cell_type": "code",
      "source": [
        "y_smk = df_smk[\"diabetes\"]\n",
        "X_smk = df_smk.drop([\"diabetes\"], axis = \"columns\")\n",
        "X_smk_train, X_smk_test, y_smk_train, y_smk_test = train_test_split(X_smk, y_smk, test_size = 0.33)"
      ],
      "metadata": {
        "id": "oX-GeIwNPjQC"
      },
      "execution_count": 20,
      "outputs": []
    },
    {
      "cell_type": "markdown",
      "source": [
        "La base de datos presenta un desbalance en la clase \"diabetes\": las personas que no tienen diabetes exceden más de 10 a las que presentan diabetes. Esto podría alterar el modelo de aprendizaje a favor de negativos, por lo que se ha considerado hacer un preprocesamiento de datos de remuestreado.\n"
      ],
      "metadata": {
        "id": "kAyD8ueJEHPE"
      }
    },
    {
      "cell_type": "code",
      "source": [
        "df_diabetes = df.groupby(\"diabetes\").diabetes.count()\n",
        "df_diabetes.plot(kind=\"bar\")\n",
        "df_diabetes"
      ],
      "metadata": {
        "colab": {
          "base_uri": "https://localhost:8080/",
          "height": 515
        },
        "id": "mXcoVIAyD8x2",
        "outputId": "88d80a16-52ff-4d36-d5dd-3f32d37b22c7"
      },
      "execution_count": 21,
      "outputs": [
        {
          "output_type": "execute_result",
          "data": {
            "text/plain": [
              "diabetes\n",
              "0    91500\n",
              "1     8500\n",
              "Name: diabetes, dtype: int64"
            ]
          },
          "metadata": {},
          "execution_count": 21
        },
        {
          "output_type": "display_data",
          "data": {
            "text/plain": [
              "<Figure size 640x480 with 1 Axes>"
            ],
            "image/png": "[encoded data removed]"
          },
          "metadata": {}
        }
      ]
    },
    {
      "cell_type": "markdown",
      "source": [
        "*RandomOverSample* hare un remuestreo aletorio con reemplazo para simular un mejor balance en las clases."
      ],
      "metadata": {
        "id": "LnEOB9DCFDJx"
      }
    },
    {
      "cell_type": "code",
      "source": [
        "ros_smk = RandomOverSampler()\n",
        "X_smk_train_ovs, y_smk_train_ovs = ros_smk.fit_resample(X_smk_train, y_smk_train)"
      ],
      "metadata": {
        "id": "F93Cys5wDs7s"
      },
      "execution_count": 22,
      "outputs": []
    },
    {
      "cell_type": "code",
      "source": [
        "y_nosmk = df_nosmk[\"diabetes\"]\n",
        "X_nosmk = df_nosmk.drop([\"diabetes\"], axis = \"columns\")\n",
        "ros_nosmk = RandomOverSampler()\n",
        "X_nosmk_train, X_nosmk_test, y_nosmk_train, y_nosmk_test = train_test_split(X_nosmk, y_nosmk, test_size = 0.33)\n",
        "X_nosmk_train_ovs, y_nosmk_train_ovs = ros_nosmk.fit_resample(X_nosmk_train, y_nosmk_train)"
      ],
      "metadata": {
        "id": "m08Xt31xPjh-"
      },
      "execution_count": 25,
      "outputs": []
    },
    {
      "cell_type": "markdown",
      "source": [
        "En esta gráfica se puede ver como la función RandomOverSampler hace un balance de las muestras hasta tener la misma cantidad de datos en las clases de Diabetes y No Diabetes.\n"
      ],
      "metadata": {
        "id": "TwJIlPKoFbQ4"
      }
    },
    {
      "cell_type": "code",
      "source": [
        "dataX = X_smk_train_ovs.copy()\n",
        "dataX[\"diabetes\"] = y_smk_train_ovs\n",
        "dataX_graph = dataX.groupby(\"diabetes\").diabetes.count()\n",
        "dataX_graph.plot(kind = \"bar\")"
      ],
      "metadata": {
        "colab": {
          "base_uri": "https://localhost:8080/",
          "height": 462
        },
        "id": "3Rt8jfSGCIRA",
        "outputId": "411ff416-11de-4e94-c346-d012eaabfa08"
      },
      "execution_count": 26,
      "outputs": [
        {
          "output_type": "execute_result",
          "data": {
            "text/plain": [
              "<Axes: xlabel='diabetes'>"
            ]
          },
          "metadata": {},
          "execution_count": 26
        },
        {
          "output_type": "display_data",
          "data": {
            "text/plain": [
              "<Figure size 640x480 with 1 Axes>"
            ],
            "image/png": "[encoded data removed]"
          },
          "metadata": {}
        }
      ]
    },
    {
      "cell_type": "markdown",
      "source": [
        "## Entrenamiento \n",
        "\n",
        "Primeramente se realizó la partición de los datos para obtener los conjuntos de entrenamiento y de validación.\n",
        "\n",
        "Se utilizó MLPClassifier con los siguientes parámetros:\n",
        "- Función de activación: relu\n",
        "- Solver: lbfgs (un optimizador en la familia de los métodos quasi-Newton)\n",
        "- Número de capas ocultas: 3 capas de 32, 8 y 8 neuronas respectivamente.\n",
        "- Número de iteraciones: 3500"
      ],
      "metadata": {
        "id": "3mT_DqrfSdSI"
      }
    },
    {
      "cell_type": "code",
      "source": [
        "model_smk = MLPClassifier(solver = \"lbfgs\", alpha = 1e-5, hidden_layer_sizes = (32, 8, 8), max_iter = 3500)\n",
        "model_smk.fit(X_smk_train, y_smk_train)"
      ],
      "metadata": {
        "id": "t5IZaob3SrOd"
      },
      "execution_count": null,
      "outputs": []
    },
    {
      "cell_type": "code",
      "source": [
        "model_nosmk = MLPClassifier(solver = \"lbfgs\", alpha = 1e-5, hidden_layer_sizes = (32, 8, 8), max_iter = 3500)\n",
        "model_nosmk.fit(X_nosmk_train, y_nosmk_train)"
      ],
      "metadata": {
        "id": "NmjWPdQYTK1P"
      },
      "execution_count": null,
      "outputs": []
    },
    {
      "cell_type": "code",
      "source": [
        "ans_smk = (model_smk.predict_proba(X_smk_test)[:,1] >= 0.3).astype(bool)"
      ],
      "metadata": {
        "id": "JKBwrwx4v0i1"
      },
      "execution_count": 29,
      "outputs": []
    },
    {
      "cell_type": "code",
      "source": [
        "ans_nosmk = (model_nosmk.predict_proba(X_nosmk_test)[:,1] >= 0.3).astype(bool)"
      ],
      "metadata": {
        "id": "Bn74D3Rwv0yH"
      },
      "execution_count": 30,
      "outputs": []
    },
    {
      "cell_type": "markdown",
      "source": [
        "## Validación \n",
        "\n",
        "Para la validación se utilizó un \"Clasiffication report\" el cual nos arroja un reporte que incluye las métricas más importantes, como el score.\n",
        "\n",
        "Se implementó una matriz de confusión para visualizar los resultados positivos, negativos, falsos positivos y falsos negativos de las salidas de la red neuronal."
      ],
      "metadata": {
        "id": "WY0bgpniTud1"
      }
    },
    {
      "cell_type": "code",
      "source": [
        "print(\"Precisión del modelo smk:\", accuracy_score(y_smk_test, ans_smk))\n",
        "print(\"Precisión del modelo nosmk:\", accuracy_score(y_nosmk_test, ans_nosmk))\n",
        "print(\"Puntuación de Jaccard del modelo smk:\", jaccard_score(y_smk_test, ans_smk))\n",
        "print(\"Puntuación de Jaccard del modelo nosmk:\", jaccard_score(y_nosmk_test, ans_nosmk))\n",
        "conf_matrix_smk = confusion_matrix(y_smk_test, ans_smk)\n",
        "conf_matrix_nosmk = confusion_matrix(y_nosmk_test, ans_nosmk)\n",
        "print(classification_report(y_smk_test,ans_smk))\n",
        "print(classification_report(y_nosmk_test,ans_nosmk))"
      ],
      "metadata": {
        "id": "8BMfqluPUS73",
        "colab": {
          "base_uri": "https://localhost:8080/"
        },
        "outputId": "52d06050-5397-4b38-ad85-be4fa544450b"
      },
      "execution_count": 31,
      "outputs": [
        {
          "output_type": "stream",
          "name": "stdout",
          "text": [
            "Precisión del modelo smk: 0.9331212121212121\n",
            "Precisión del modelo nosmk: 0.9042538123790189\n",
            "Puntuación de Jaccard del modelo smk: 0.3831749580771381\n",
            "Puntuación de Jaccard del modelo nosmk: 0.34177215189873417\n",
            "              precision    recall  f1-score   support\n",
            "\n",
            "           0       0.95      0.97      0.96     30227\n",
            "           1       0.63      0.49      0.55      2773\n",
            "\n",
            "    accuracy                           0.93     33000\n",
            "   macro avg       0.79      0.73      0.76     33000\n",
            "weighted avg       0.93      0.93      0.93     33000\n",
            "\n",
            "              precision    recall  f1-score   support\n",
            "\n",
            "           0       0.93      0.96      0.95     18841\n",
            "           1       0.59      0.45      0.51      2340\n",
            "\n",
            "    accuracy                           0.90     21181\n",
            "   macro avg       0.76      0.71      0.73     21181\n",
            "weighted avg       0.90      0.90      0.90     21181\n",
            "\n"
          ]
        }
      ]
    },
    {
      "cell_type": "code",
      "source": [
        "Conf_Matrix_SMK = ConfusionMatrixDisplay(conf_matrix_smk)\n",
        "Conf_Matrix_SMK.plot()\n",
        "plt.show()"
      ],
      "metadata": {
        "id": "9_-g6F0Tbioa",
        "colab": {
          "base_uri": "https://localhost:8080/",
          "height": 449
        },
        "outputId": "0672522e-33f0-4010-9aad-6d7502924c04"
      },
      "execution_count": 32,
      "outputs": [
        {
          "output_type": "display_data",
          "data": {
            "text/plain": [
              "<Figure size 640x480 with 2 Axes>"
            ],
            "image/png": "[encoded data removed]"
          },
          "metadata": {}
        }
      ]
    },
    {
      "cell_type": "code",
      "source": [
        "Conf_Matrix_NOSMK = ConfusionMatrixDisplay(conf_matrix_nosmk)\n",
        "Conf_Matrix_NOSMK.plot()\n",
        "plt.show"
      ],
      "metadata": {
        "id": "2Ut-Nr3Vbq2D",
        "colab": {
          "base_uri": "https://localhost:8080/",
          "height": 471
        },
        "outputId": "ed70f1c0-d2ea-4652-9238-7c02b083bd54"
      },
      "execution_count": 33,
      "outputs": [
        {
          "output_type": "execute_result",
          "data": {
            "text/plain": [
              "<function matplotlib.pyplot.show(close=None, block=None)>"
            ]
          },
          "metadata": {},
          "execution_count": 33
        },
        {
          "output_type": "display_data",
          "data": {
            "text/plain": [
              "<Figure size 640x480 with 2 Axes>"
            ],
            "image/png": "[encoded data removed]"
          },
          "metadata": {}
        }
      ]
    },
    {
      "cell_type": "markdown",
      "source": [
        "## Conclusión\n",
        "\n",
        "En base los resultados que se obtuvieron en la validación, se puede ver, que la precisión del modelo fueron afectados por el desbalance en el número de clasificación, por lo que se presentó una técnica para disminuir este desbalance.\n",
        "\n",
        "Los resultados del modelo presentan una buena predicción en pacientes que no presentan diabetes, pero un pobre desempeño en el caso de pacientes con diabetes. \n",
        "\n",
        "Se considera que para mejorar los resultados del modelo se pueden considerar las siguientes acciones:\n",
        "\n",
        "  - Aplicar diferentes Optimizadores como lo es Adams, el gradiente estocástico, etc.\n",
        "  - Estandarización de datos.\n",
        "  - Ajustar parámetros de aprendizaje del modelo como lo es la topología de la red, probar diferentes funciones de activación, alpha's etc. \n",
        "\n",
        "\n"
      ],
      "metadata": {
        "id": "6_faz5CnIfZl"
      }
    },
    {
      "cell_type": "markdown",
      "source": [
        "## Referencias:\n",
        "\n",
        "- Dataset Kaggle\n",
        "https://www.kaggle.com/datasets/iammustafatz/diabetes-prediction-dataset\n",
        "\n",
        "- Documentación sklearn\n",
        "  - https://scikit-learn.org/stable/modules/generated/sklearn.neural_network.MLPClassifier.html\n",
        "  - https://scikit-learn.org/stable/modules/generated/sklearn.metrics.classification_report.html#sklearn.metrics.classification_report\n",
        "  - https://scikit-learn.org/stable/modules/generated/sklearn.metrics.ConfusionMatrixDisplay.html\n",
        "  - https://imbalanced-learn.org/stable/references/generated/imblearn.over_sampling.RandomOverSampler.html\n",
        "  "
      ],
      "metadata": {
        "id": "bCHlJVbSISBy"
      }
    }
  ]
}
